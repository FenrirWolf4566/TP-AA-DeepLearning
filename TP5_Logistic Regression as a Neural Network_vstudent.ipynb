{
 "cells": [
  {
   "attachments": {},
   "cell_type": "markdown",
   "id": "59df73b6",
   "metadata": {},
   "source": [
    "ADAM Cody & DE ZORDO Benjamin"
   ]
  },
  {
   "cell_type": "markdown",
   "id": "110b3ea8",
   "metadata": {},
   "source": [
    "<font  style=\"font-size: 4rem; color: darkviolet\"> Logistic Regression as a Neural Network </font>\n",
    "\n",
    "AA - 2022/23 - TP5\n",
    "\n",
    "In this assignment, you will build a logistic regression classifier to recognize cats using a Neural Network approach. The goal is to build a general architecture of a learning algorithm, including initializing parameters, calculating the cost function and its gradient, and using an optimization algorithm (gradient descent). This will help you develop a better understanding and intuition about deep learning.\n",
    "\n",
    "### Table of Contents\n",
    "- [1 - Dataset](#1)\n",
    "    - [Exercise 1.1 - dimensions and shapes](#ex-1.1)\n",
    "    - [Exercise 1.2 - reshape the datasets](#ex-1.2)\n",
    "    - [Exercise 1.3 - standardize the data](#ex-1.3)\n",
    "- [2 - Building the components of the algorithm](#2)\n",
    "    - [Exercise 2.1 - initialization](#ex-2.1)\n",
    "    - [Exercise 2.2 - forward and backward propagation](#ex-2.2)\n",
    "    - [Exercise 2.3 - optimization](#ex-2.3)\n",
    "    - [Exercise 2.4 - prediction](#ex-2.4)\n",
    "- [3 - Merge all functions into a model](#3)\n",
    "    - [Exercise 3.1 - model](#ex-3.1)"
   ]
  },
  {
   "cell_type": "code",
   "execution_count": null,
   "id": "7de70dde",
   "metadata": {},
   "outputs": [],
   "source": [
    "import numpy as np\n",
    "import copy\n",
    "import matplotlib.pyplot as plt\n",
    "import h5py\n",
    "import scipy\n",
    "import time\n",
    "from PIL import Image\n",
    "from scipy import ndimage\n",
    "\n",
    "%matplotlib inline"
   ]
  },
  {
   "cell_type": "markdown",
   "id": "610fde1b",
   "metadata": {},
   "source": [
    "<a name='1'></a>\n",
    "## <font color='darkviolet'> 1 - Dataset ##\n",
    "\n",
    "The problem involves working with a dataset that contains two sets of images: a training set and a test set. The images are classified as either cats (labeled as y=1) or non-cats (labeled as y=0). \n",
    "\n",
    "Each image is represented as a matrix of size (num_px,num_px,3), where 3 represents the RGB channels. \n",
    "    \n",
    "The goal is to develop an image recognition algorithm that can accurately classify new images as cats or non-cats. To begin, the dataset is loaded into memory using the provided code."
   ]
  },
  {
   "cell_type": "code",
   "execution_count": null,
   "id": "c8cacd48",
   "metadata": {},
   "outputs": [],
   "source": [
    "def load_dataset():\n",
    "    train_dataset = h5py.File('./data/train_catvnoncat.h5', \"r\")\n",
    "    train_set_x = np.array(train_dataset[\"train_set_x\"][:]) # the train set features\n",
    "    train_set_y = np.array(train_dataset[\"train_set_y\"][:]) # the train set labels\n",
    "\n",
    "    test_dataset = h5py.File('./data/test_catvnoncat.h5', \"r\")\n",
    "    test_set_x = np.array(test_dataset[\"test_set_x\"][:]) # the test set features\n",
    "    test_set_y = np.array(test_dataset[\"test_set_y\"][:]) # the test set labels\n",
    "\n",
    "    classes = np.array(test_dataset[\"list_classes\"][:]) # the list of classes\n",
    "    \n",
    "    train_set_y = train_set_y.reshape((1, train_set_y.shape[0]))\n",
    "    test_set_y = test_set_y.reshape((1, test_set_y.shape[0]))\n",
    "    \n",
    "    return train_set_x, train_set_y, test_set_x, test_set_y, classes"
   ]
  },
  {
   "cell_type": "code",
   "execution_count": null,
   "id": "49db7de4",
   "metadata": {},
   "outputs": [],
   "source": [
    "# Loading the data\n",
    "train_set_x_raw, train_set_y, test_set_x_raw, test_set_y, classes = load_dataset()"
   ]
  },
  {
   "cell_type": "code",
   "execution_count": null,
   "id": "8208cef7",
   "metadata": {},
   "outputs": [],
   "source": [
    "# Example of a picture\n",
    "index =10\n",
    "plt.imshow(train_set_x_raw[index])\n",
    "print (\"y = \" + str(train_set_y[0, index]) + \", it's a '\" + classes[np.squeeze(train_set_y[:, index])].decode(\"utf-8\") +  \"' picture.\")"
   ]
  },
  {
   "cell_type": "markdown",
   "id": "d96572df",
   "metadata": {},
   "source": [
    "<a name='ex-1.1'></a>\n",
    "\n",
    "### <font color='blue'> Exercise 1.1: dimensions and shapes \n",
    "\n",
    "<font color='blue'> Determine the values of the variables of interest: m_train, which is to the number of training examples; m_test, which is the number of test examples; num_px, which denotes the height and width of a given training image.\n",
    "\n",
    "Note that `train_set_x_raw` is a numpy-array with dimensions (m_train, num_px, num_px, 3). To extract the value for m_train, one may access the first element of the shape attribute of `train_set_x_raw` as such `train_set_x_raw.shape[0]`. Similarly, num_px corresponds to the height and width of a training image, and is thus equivalent to the second and third elements of the shape attribute of `train_set_x_raw`."
   ]
  },
  {
   "cell_type": "code",
   "execution_count": null,
   "id": "51469c4b",
   "metadata": {},
   "outputs": [],
   "source": [
    "# TODO: write the lines to determine m_train, m_test, num_px"
   ]
  },
  {
   "cell_type": "markdown",
   "id": "dafbe5b0",
   "metadata": {},
   "source": [
    "<a name='ex-1.2'></a>\n",
    "\n",
    "### <font color='blue'> Exercise 1.2: reshape the datasets \n",
    "    \n",
    "<font color='blue'> To simplify subsequent computations, reshape the (num_px, num_px, 3) images into a numpy array of shape (num_px * num_px * 3, 1), resulting in a training and test dataset where each column corresponds to a flattened image. The dataset will contain m_train (and m_test) columns, where m_train (and m_test) represent the number of examples."
   ]
  },
  {
   "cell_type": "code",
   "execution_count": null,
   "id": "8618eaea",
   "metadata": {},
   "outputs": [],
   "source": [
    "# TODO: write the lines to reshape the training and test examples. Use the  use the reshape() function."
   ]
  },
  {
   "cell_type": "markdown",
   "id": "1cdf8b84",
   "metadata": {},
   "source": [
    "<a name='ex-1.3'></a>\n",
    "\n",
    "### <font color='blue'> Exercise 1.3: standardize the data \n",
    "Color images are represented by specifying the red, green, and blue channels (RGB) for each pixel. Consequently, the value of each pixel is expressed as a vector comprising three numbers, ranging from 0 to 255. Dividing each pixel value by 255 scales the pixel values to the range [0, 1], which can make it easier for the model to learn the underlying patterns in the data.\n",
    "    \n",
    "<font color='blue'> Standardize the dataset by dividing each row by 255."
   ]
  },
  {
   "cell_type": "code",
   "execution_count": null,
   "id": "06c46da0",
   "metadata": {},
   "outputs": [],
   "source": [
    "# TODO: write the lines to standardize the dataset by dividing each row by 255."
   ]
  },
  {
   "cell_type": "markdown",
   "id": "f37735a4",
   "metadata": {},
   "source": [
    "<a name='2'></a>\n",
    "## <font color='darkviolet'> 2 - Building the components of the algorithm ##"
   ]
  },
  {
   "cell_type": "markdown",
   "id": "099c87b1",
   "metadata": {},
   "source": [
    "In this section, we will build a simple algorithm that can distinguish cat images from non-cat images. Specifically, we will build a logistic regression model using a Neural Network approach. \n",
    "\n",
    "**Reminder**. The mathematical expression of the logistic regression algorithm, given an input example $x^{(i)}$:\n",
    "\n",
    "$z^{(i)} = w^T x^{(i)} + b \\tag{1}$ \n",
    "\n",
    "$\\hat{y}^{(i)} = a^{(i)} = sigmoid(z^{(i)})\\tag{2}$\n",
    "\n",
    "$\\mathcal{L}(a^{(i)}, y^{(i)}) = - y^{(i)} \\log(a^{(i)}) - (1-y^{(i)} ) \\log(1-a^{(i)})\\tag{3}$\n",
    "\n",
    "$ J = \\frac{1}{m} \\sum_{i=1}^m \\mathcal{L}(a^{(i)}, y^{(i)})\\tag{4}$"
   ]
  },
  {
   "cell_type": "markdown",
   "id": "3ec86036",
   "metadata": {},
   "source": [
    "**Key steps** we will implement:\n",
    "\n",
    "1. Initialize the parameters of the model\n",
    "3. Loop:\n",
    "   * Calculate loss (forward propagation)\n",
    "   * Calculate gradient (backward propagation)\n",
    "   * Update parameters (gradient descent)\n",
    "        \n",
    "We will build each step separately and then integrate them into one function called `model()`."
   ]
  },
  {
   "cell_type": "markdown",
   "id": "dc922d1a",
   "metadata": {},
   "source": [
    "<a name='ex-2.1'></a>\n",
    "### <font color='blue'> Exercise 2.1: Initializing parameters\n",
    "    \n",
    "<font color='blue'> Implement the function `initialize_with_zeros()` that initializes w as a vector of zeros, and b to zero.\n",
    "If you don't know what numpy function to use, look up np.zeros() in the Numpy library's documentation."
   ]
  },
  {
   "cell_type": "code",
   "execution_count": null,
   "id": "5f4d9092",
   "metadata": {},
   "outputs": [],
   "source": [
    "def initialize_with_zeros(dim):\n",
    "    \"\"\"\n",
    "    This function creates a vector of zeros of shape (dim, 1) for w and initializes b to 0.\n",
    "    \n",
    "    Argument:\n",
    "    dim -- size of the w vector we want (or number of parameters in this case)\n",
    "    \n",
    "    Returns:\n",
    "    w -- initialized vector of shape (dim, 1)\n",
    "    b -- initialized scalar (corresponds to the bias) of type float\n",
    "    \"\"\"\n",
    "    \n",
    "    # TODO: Implement this function\n",
    "        \n",
    "    return w, b"
   ]
  },
  {
   "cell_type": "code",
   "execution_count": null,
   "id": "6ba6c4bd",
   "metadata": {},
   "outputs": [],
   "source": [
    "dim = 2\n",
    "w, b = initialize_with_zeros(dim)\n",
    "\n",
    "assert type(b) == float\n",
    "print (\"w = \" + str(w))\n",
    "print (\"b = \" + str(b))"
   ]
  },
  {
   "cell_type": "markdown",
   "id": "ca311440",
   "metadata": {},
   "source": [
    "<a name='ex-2.2'></a>\n",
    "### <font color='blue'> Exercise 2.2: Forward and Backward propagation\n",
    "\n",
    "Now that we have initialized the parameters, we can do the forward and backward propagation steps for learning the parameters.\n",
    "\n",
    "<font color='blue'> a. Implement the sigmoid function using np.exp().\n",
    "    \n",
    "<font color='blue'> b. Implement a function `propagate()` that computes the cost function and its gradient. Write your code step by step. Don't use loops for the sum; use np.log(), np.dot().\n",
    "\n",
    "**Recap**:\n",
    "\n",
    "* Forward Propagation:\n",
    "1. Compute $A = \\sigma(w^T X + b) = (a^{(1)}, a^{(2)}, ..., a^{(m)})$\n",
    "3. Calculate the cost function $J = -\\frac{1}{m}\\sum_{i=1}^{m}(y^{(i)}\\log(a^{(i)})+(1-y^{(i)})\\log(1-a^{(i)}))$\n",
    "\n",
    "* Backward Propagation key formulas: \n",
    "\n",
    "$$ \\frac{d J}{d w} = \\frac{1}{m}X(A-Y)^T\\tag{7}$$\n",
    "$$ \\frac{d J}{d b} = \\frac{1}{m} \\sum_{i=1}^m (a^{(i)}-y^{(i)})\\tag{8}$$"
   ]
  },
  {
   "cell_type": "code",
   "execution_count": null,
   "id": "fc9f8e6d",
   "metadata": {},
   "outputs": [],
   "source": [
    "def sigmoid(z):\n",
    "    \"\"\"\n",
    "    Compute the sigmoid of z\n",
    "\n",
    "    Arguments:\n",
    "    z -- A scalar or numpy array of any size.\n",
    "\n",
    "    Return:\n",
    "    s -- sigmoid(z)\n",
    "    \"\"\"\n",
    "\n",
    "    # TODO: Implement this function\n",
    "    \n",
    "    return s\n"
   ]
  },
  {
   "cell_type": "code",
   "execution_count": null,
   "id": "937dbd8b",
   "metadata": {},
   "outputs": [],
   "source": [
    "def propagate(w, b, X, Y):\n",
    "    \"\"\"\n",
    "    Implement the cost function and its gradient for logistic regression.\n",
    "\n",
    "    Arguments:\n",
    "    w -- weights, a numpy array of size (num_px * num_px * 3, 1)\n",
    "    b -- bias, a scalar\n",
    "    X -- data of size (num_px * num_px * 3, number of examples)\n",
    "    Y -- true labels, a numpy array of size (1, number of examples)\n",
    "\n",
    "    Returns:\n",
    "    cost -- negative log-likelihood cost for logistic regression\n",
    "    dw -- gradient of the loss with respect to w, same shape as w\n",
    "    db -- gradient of the loss with respect to b, same shape as b\n",
    "    \"\"\"\n",
    "    \n",
    "    m = X.shape[1]  # number of examples\n",
    "    \n",
    "    # TODO\n",
    "    # FORWARD PROPAGATION\n",
    "    # Z = ...\n",
    "    # A = ...\n",
    "    # cost = ...\n",
    "    \n",
    "    # BACKWARD PROPAGATION\n",
    "    # dZ = ...\n",
    "    # dw = ...\n",
    "    # db = ...\n",
    "        \n",
    "    grads = {\"dw\": dw, \"db\": db}\n",
    "    \n",
    "    return grads, cost"
   ]
  },
  {
   "cell_type": "code",
   "execution_count": null,
   "id": "ba99d1a1",
   "metadata": {},
   "outputs": [],
   "source": [
    "w =  np.array([[1.], [2]])\n",
    "b = 1.5\n",
    "X = np.array([[1., -2., -1.], [3., 0.5, -3.2]])\n",
    "Y = np.array([[1, 1, 0]])\n",
    "grads, cost = propagate(w, b, X, Y)\n",
    "\n",
    "assert type(grads[\"dw\"]) == np.ndarray\n",
    "assert grads[\"dw\"].shape == (2, 1)\n",
    "assert type(grads[\"db\"]) == np.float64\n",
    "\n",
    "print (\"dw = \" + str(grads[\"dw\"]))\n",
    "print (\"db = \" + str(grads[\"db\"]))\n",
    "print (\"cost = \" + str(cost))"
   ]
  },
  {
   "cell_type": "markdown",
   "id": "fdec7c8a",
   "metadata": {},
   "source": [
    "<a name='ex-2.3'></a>\n",
    "### <font color='blue'> Exercise 2.3: Optimization\n",
    "\n",
    "Now that we have initialized the parameters and can compute the cost function and its gradient, it's time to update the parameters using gradient descent.\n",
    "\n",
    "<font color='blue'> Implement the optimization function `optimize()`. The goal is to learn $w$ and $b$ by minimizing the cost function $J$.\n",
    "\n",
    "**Recall** Iterate through the loop:\n",
    "1) Calculate the cost and the gradient for the current parameters, using propagate();\n",
    "2) Update the parameters using gradient descent rule for w and b.\n",
    "    \n",
    "For a parameter $\\theta$, the update rule is $ \\theta = \\theta - \\alpha \\text{ } d\\theta$, where $\\alpha$ is the learning rate."
   ]
  },
  {
   "cell_type": "code",
   "execution_count": null,
   "id": "c6f45eee",
   "metadata": {},
   "outputs": [],
   "source": [
    "def optimize(w, b, X, Y, num_iterations=100, learning_rate=0.009, print_cost=False):\n",
    "    \"\"\"\n",
    "    Optimizes the parameters w and b using gradient descent.\n",
    "    \n",
    "    Arguments:\n",
    "    w -- weights, a numpy array of size (num_features, 1)\n",
    "    b -- bias, a scalar\n",
    "    X -- input data of size (num_features, num_samples)\n",
    "    Y -- true \"label\" vector of size (1, num_samples)\n",
    "    num_iterations -- number of iterations of the optimization loop\n",
    "    learning_rate -- learning rate of the gradient descent update rule\n",
    "    print_cost -- True to print the cost every 100 iterations\n",
    "    \n",
    "    Returns:\n",
    "    params -- dictionary containing the optimized weights w and bias b\n",
    "    grads -- dictionary containing the gradients of the weights and bias\n",
    "    costs -- list of all the costs computed during the optimization\n",
    "    \"\"\"\n",
    "    \n",
    "    costs = []\n",
    "    \n",
    "    for i in range(num_iterations):\n",
    "        \n",
    "        # TODO Cost and gradient calculation\n",
    "        # grads, cost = ...\n",
    "        \n",
    "        # Retrieve derivatives from the dictionary grads\n",
    "        dw = grads[\"dw\"]\n",
    "        db = grads[\"db\"]\n",
    "        \n",
    "        # TODO Update the parameters\n",
    "        # w = ...\n",
    "        # b = ...\n",
    "        \n",
    "        # Record the costs\n",
    "        if i % 100 == 0:\n",
    "            costs.append(cost)\n",
    "            \n",
    "            # Print the cost every 100 training iterations\n",
    "            if print_cost and i % 100 == 0:\n",
    "                print(f\"Cost after iteration {i}: {cost}\")\n",
    "    \n",
    "    # Save the optimized parameters and gradients in dictionaries\n",
    "    params = {\"w\": w, \"b\": b}\n",
    "    grads = {\"dw\": dw, \"db\": db}\n",
    "    \n",
    "    return params, grads, costs"
   ]
  },
  {
   "cell_type": "code",
   "execution_count": null,
   "id": "14f210dd",
   "metadata": {
    "scrolled": true
   },
   "outputs": [],
   "source": [
    "params, grads, costs = optimize(w, b, X, Y, num_iterations=100, learning_rate=0.009, print_cost=False)\n",
    "\n",
    "print (\"w = \" + str(params[\"w\"]))\n",
    "print (\"b = \" + str(params[\"b\"]))\n",
    "print (\"dw = \" + str(grads[\"dw\"]))\n",
    "print (\"db = \" + str(grads[\"db\"]))\n",
    "print(\"Costs = \" + str(costs))"
   ]
  },
  {
   "cell_type": "markdown",
   "id": "57475f15",
   "metadata": {},
   "source": [
    "<a name='ex-2.4'></a>\n",
    "### <font color='blue'> Exercise 2.4: Prediction\n",
    "    \n",
    "<font color='blue'> Implement the `predict()` function that returns the predicted labels for a dataset X using the learned parameters w and b. Don't use loops, use vectorization.\n",
    "    \n",
    "The function should return a numpy array containing all predictions for the examples in X. The predicted values can be rounded to the nearest integer to obtain binary predictions."
   ]
  },
  {
   "cell_type": "code",
   "execution_count": null,
   "id": "42d52ce1",
   "metadata": {},
   "outputs": [],
   "source": [
    "def predict(w, b, X):\n",
    "    '''\n",
    "    Predict whether the label is 0 or 1 using learned logistic regression parameters (w, b)\n",
    "    \n",
    "    Arguments:\n",
    "    w -- weights, a numpy array of shape (num_features, 1)\n",
    "    b -- bias, a scalar\n",
    "    X -- data of shape (num_features, num_examples)\n",
    "    \n",
    "    Returns:\n",
    "    Y_prediction -- a numpy array (vector) containing all predictions (0/1) for the examples in X\n",
    "    '''\n",
    "    \n",
    "    m = X.shape[1]\n",
    "    \n",
    "    Y_prediction = np.zeros((1, m))\n",
    "    \n",
    "    # TODO Compute vector Z containing the logits for each example\n",
    "    # Z = ...\n",
    "    \n",
    "    # TODO Compute vector A containing the predicted probabilities for each example\n",
    "    # A = ...\n",
    "    \n",
    "    # TODO Convert probabilities to actual predictions\n",
    "    # Y_prediction = ...\n",
    "    \n",
    "    return Y_prediction"
   ]
  },
  {
   "cell_type": "code",
   "execution_count": null,
   "id": "2bf2ddc0",
   "metadata": {},
   "outputs": [],
   "source": [
    "w = np.array([[0.1124579], [0.23106775]])\n",
    "b = -0.3\n",
    "X = np.array([[1., -1.1, -3.2],[1.2, 2., 0.1]])\n",
    "print (\"predictions = \" + str(predict(w, b, X)))"
   ]
  },
  {
   "cell_type": "markdown",
   "id": "2b72b477",
   "metadata": {},
   "source": [
    "<a name='3'></a>\n",
    "## <font color='darkviolet'> 3 - Merging the components into a model\n",
    "    \n",
    "<a name='ex-3.1'></a>\n",
    "### <font color='blue'> Exercise 3.1: Model\n",
    "<font color='blue'> Implement the `model()` function that puts together all the building blocks (functions implemented in the previous parts) in the right order to obtain the overall model."
   ]
  },
  {
   "cell_type": "code",
   "execution_count": null,
   "id": "49b33184",
   "metadata": {},
   "outputs": [],
   "source": [
    "def model(X_train, Y_train, X_test, Y_test, num_iterations=2000, learning_rate=0.5, print_cost=False):\n",
    "    \"\"\"\n",
    "    Builds the logistic regression model by calling previous functions\n",
    "    \n",
    "    Arguments:\n",
    "    X_train -- training set represented by a numpy array of shape (num_features, m_train)\n",
    "    Y_train -- training labels represented by a numpy array (vector) of shape (1, m_train)\n",
    "    X_test -- test set represented by a numpy array of shape (num_features, m_test)\n",
    "    Y_test -- test labels represented by a numpy array (vector) of shape (1, m_test)\n",
    "    num_iterations -- hyperparameter representing the number of iterations to optimize the parameters\n",
    "    learning_rate -- hyperparameter representing the learning rate used in the update rule of optimize()\n",
    "    print_cost -- Set to True to print the cost every 100 iterations\n",
    "    \n",
    "    Returns:\n",
    "    d -- dictionary containing information about the model.\n",
    "    \"\"\"\n",
    "    \n",
    "    # TODO\n",
    "    # Initialize parameters with zeros   \n",
    "    # Gradient descent to optimize parameters\n",
    "    \n",
    "    # TODO Retrieve parameters w and b from dictionary \"params\"\n",
    "    # w = ...\n",
    "    # b = ...\n",
    "    \n",
    "    # TODO Predict test/train set examples using learned parameters\n",
    "    # Y_prediction_test = ...\n",
    "    # Y_prediction_train = ...\n",
    "    \n",
    "    # Print train/test Errors\n",
    "    if print_cost:\n",
    "        print(\"train accuracy: {} %\".format(100 - np.mean(np.abs(Y_prediction_train - Y_train)) * 100))\n",
    "        print(\"test accuracy: {} %\".format(100 - np.mean(np.abs(Y_prediction_test - Y_test)) * 100))\n",
    "\n",
    "    \n",
    "    d = {\"costs\": costs,\n",
    "         \"Y_prediction_test\": Y_prediction_test, \n",
    "         \"Y_prediction_train\" : Y_prediction_train, \n",
    "         \"w\" : w, \n",
    "         \"b\" : b,\n",
    "         \"learning_rate\" : learning_rate,\n",
    "         \"num_iterations\": num_iterations}\n",
    "                                      \n",
    "    return d\n"
   ]
  },
  {
   "cell_type": "markdown",
   "id": "5d97c91f",
   "metadata": {},
   "source": [
    "\n",
    "Run the following cell to train the model:\n",
    "    "
   ]
  },
  {
   "cell_type": "code",
   "execution_count": null,
   "id": "9fcdff04",
   "metadata": {
    "scrolled": true
   },
   "outputs": [],
   "source": [
    "logistic_regression_model = model(train_set_x, train_set_y, test_set_x, test_set_y, num_iterations=2000, learning_rate=0.0005, print_cost=True)"
   ]
  },
  {
   "cell_type": "markdown",
   "id": "ee85f92f",
   "metadata": {},
   "source": [
    "<font color='blue'>\n",
    "Q1: \n",
    "\n",
    "*  Provide an interpretation of the results obtained above. "
   ]
  },
  {
   "cell_type": "code",
   "execution_count": null,
   "id": "6764ce81",
   "metadata": {},
   "outputs": [],
   "source": [
    "# Example of an image that was wrongly classified.\n",
    "index = 10\n",
    "plt.imshow(test_set_x[:, index].reshape((num_px, num_px, 3)))\n",
    "print (\"y = \" + str(test_set_y[0,index]) + \", you predicted that it is a \\\"\" + classes[int(logistic_regression_model['Y_prediction_test'][0,index])].decode(\"utf-8\") +  \"\\\" picture.\")"
   ]
  },
  {
   "cell_type": "markdown",
   "id": "0d4e18fa",
   "metadata": {},
   "source": [
    "\n",
    "Run the cell below to compare the learning curve of our model with different choices of learning rates. Feel free to try different values and see what happens. \n",
    "    "
   ]
  },
  {
   "cell_type": "code",
   "execution_count": null,
   "id": "daa71522",
   "metadata": {},
   "outputs": [],
   "source": [
    "learning_rates = [0.01, 0.001, 0.0001]\n",
    "models = {}\n",
    "\n",
    "for lr in learning_rates:\n",
    "    print (\"Training a model with learning rate: \" + str(lr))\n",
    "    models[str(lr)] = model(train_set_x, train_set_y, test_set_x, test_set_y, num_iterations=1500, learning_rate=lr, print_cost=False)\n",
    "    print (\"-------------------------------------------------------\")\n",
    "\n",
    "for lr in learning_rates:\n",
    "    plt.plot(np.squeeze(models[str(lr)][\"costs\"]), label=str(models[str(lr)][\"learning_rate\"]))\n",
    "\n",
    "plt.ylabel('cost')\n",
    "plt.xlabel('iterations (hundreds)')\n",
    "\n",
    "legend = plt.legend(loc='upper center', shadow=True)\n",
    "frame = legend.get_frame()\n",
    "frame.set_facecolor('0.90')\n",
    "plt.show()"
   ]
  },
  {
   "cell_type": "markdown",
   "id": "936cb912",
   "metadata": {},
   "source": [
    "<font color='blue'>  \n",
    "<font color='blue'>  Q2:    \n",
    "    \n",
    "* What is the purpose of the learning rate in the gradient descent algorithm and how can it affect the performance of the model?\n",
    "    \n",
    "* Why it is important to use a well-tuned learning rate?\n",
    "    \n",
    "    \n",
    "* Provide an interpretation of the results obtained above for different learning rates."
   ]
  }
 ],
 "metadata": {
  "kernelspec": {
   "display_name": "Python 3 (ipykernel)",
   "language": "python",
   "name": "python3"
  },
  "language_info": {
   "codemirror_mode": {
    "name": "ipython",
    "version": 3
   },
   "file_extension": ".py",
   "mimetype": "text/x-python",
   "name": "python",
   "nbconvert_exporter": "python",
   "pygments_lexer": "ipython3",
   "version": "3.9.1"
  }
 },
 "nbformat": 4,
 "nbformat_minor": 5
}
