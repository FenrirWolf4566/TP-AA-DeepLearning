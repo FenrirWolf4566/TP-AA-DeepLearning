{
 "cells": [
  {
   "attachments": {},
   "cell_type": "markdown",
   "id": "59df73b6",
   "metadata": {},
   "source": [
    "ADAM Cody & DE ZORDO Benjamin"
   ]
  },
  {
   "cell_type": "markdown",
   "id": "110b3ea8",
   "metadata": {},
   "source": [
    "<font  style=\"font-size: 4rem; color: darkviolet\"> Logistic Regression as a Neural Network </font>\n",
    "\n",
    "AA - 2022/23 - TP5\n",
    "\n",
    "In this assignment, you will build a logistic regression classifier to recognize cats using a Neural Network approach. The goal is to build a general architecture of a learning algorithm, including initializing parameters, calculating the cost function and its gradient, and using an optimization algorithm (gradient descent). This will help you develop a better understanding and intuition about deep learning.\n",
    "\n",
    "### Table of Contents\n",
    "- [1 - Dataset](#1)\n",
    "    - [Exercise 1.1 - dimensions and shapes](#ex-1.1)\n",
    "    - [Exercise 1.2 - reshape the datasets](#ex-1.2)\n",
    "    - [Exercise 1.3 - standardize the data](#ex-1.3)\n",
    "- [2 - Building the components of the algorithm](#2)\n",
    "    - [Exercise 2.1 - initialization](#ex-2.1)\n",
    "    - [Exercise 2.2 - forward and backward propagation](#ex-2.2)\n",
    "    - [Exercise 2.3 - optimization](#ex-2.3)\n",
    "    - [Exercise 2.4 - prediction](#ex-2.4)\n",
    "- [3 - Merge all functions into a model](#3)\n",
    "    - [Exercise 3.1 - model](#ex-3.1)"
   ]
  },
  {
   "cell_type": "code",
   "execution_count": 2,
   "id": "7de70dde",
   "metadata": {},
   "outputs": [],
   "source": [
    "import numpy as np\n",
    "import copy\n",
    "import matplotlib.pyplot as plt\n",
    "import h5py\n",
    "import scipy\n",
    "import time\n",
    "from PIL import Image\n",
    "from scipy import ndimage\n",
    "\n",
    "%matplotlib inline"
   ]
  },
  {
   "attachments": {},
   "cell_type": "markdown",
   "id": "610fde1b",
   "metadata": {},
   "source": [
    "<a name='1'></a>\n",
    "## <font color='darkviolet'> 1 - Dataset </font>\n",
    "\n",
    "The problem involves working with a dataset that contains two sets of images: a training set and a test set. The images are classified as either cats (labeled as y=1) or non-cats (labeled as y=0). \n",
    "\n",
    "Each image is represented as a matrix of size (num_px,num_px,3), where 3 represents the RGB channels. \n",
    "    \n",
    "The goal is to develop an image recognition algorithm that can accurately classify new images as cats or non-cats. To begin, the dataset is loaded into memory using the provided code."
   ]
  },
  {
   "cell_type": "code",
   "execution_count": 3,
   "id": "c8cacd48",
   "metadata": {},
   "outputs": [],
   "source": [
    "def load_dataset():\n",
    "    train_dataset = h5py.File('./data/train_catvnoncat.h5', \"r\")\n",
    "    train_set_x = np.array(train_dataset[\"train_set_x\"][:]) # the train set features\n",
    "    train_set_y = np.array(train_dataset[\"train_set_y\"][:]) # the train set labels\n",
    "\n",
    "    test_dataset = h5py.File('./data/test_catvnoncat.h5', \"r\")\n",
    "    test_set_x = np.array(test_dataset[\"test_set_x\"][:]) # the test set features\n",
    "    test_set_y = np.array(test_dataset[\"test_set_y\"][:]) # the test set labels\n",
    "\n",
    "    classes = np.array(test_dataset[\"list_classes\"][:]) # the list of classes\n",
    "    \n",
    "    train_set_y = train_set_y.reshape((1, train_set_y.shape[0]))\n",
    "    test_set_y = test_set_y.reshape((1, test_set_y.shape[0]))\n",
    "    \n",
    "    return train_set_x, train_set_y, test_set_x, test_set_y, classes"
   ]
  },
  {
   "cell_type": "code",
   "execution_count": 4,
   "id": "49db7de4",
   "metadata": {},
   "outputs": [],
   "source": [
    "# Loading the data\n",
    "train_set_x_raw, train_set_y, test_set_x_raw, test_set_y, classes = load_dataset()"
   ]
  },
  {
   "cell_type": "code",
   "execution_count": 5,
   "id": "8208cef7",
   "metadata": {},
   "outputs": [
    {
     "name": "stdout",
     "output_type": "stream",
     "text": [
      "y = 0, it's a 'non-cat' picture.\n"
     ]
    },
    {
     "data": {
      "image/png": "[encoded data removed]",
      "text/plain": [
       "<Figure size 640x480 with 1 Axes>"
      ]
     },
     "metadata": {},
     "output_type": "display_data"
    }
   ],
   "source": [
    "# Example of a picture\n",
    "index = 10 # 7 -> cat, 10 -> non-cat\n",
    "plt.imshow(train_set_x_raw[index])\n",
    "print (\"y = \" + str(train_set_y[0, index]) + \", it's a '\" + classes[np.squeeze(train_set_y[:, index])].decode(\"utf-8\") +  \"' picture.\")"
   ]
  },
  {
   "attachments": {},
   "cell_type": "markdown",
   "id": "d96572df",
   "metadata": {},
   "source": [
    "<a name='ex-1.1'></a>\n",
    "\n",
    "### <font color='blue'> Exercise 1.1: dimensions and shapes </font>\n",
    "\n",
    "Determine the values of the variables of interest: m_train, which is to the number of training examples; m_test, which is the number of test examples; num_px, which denotes the height and width of a given training image.\n",
    "\n",
    "Note that `train_set_x_raw` is a numpy-array with dimensions (m_train, num_px, num_px, 3). To extract the value for m_train, one may access the first element of the shape attribute of `train_set_x_raw` as such `train_set_x_raw.shape[0]`. Similarly, num_px corresponds to the height and width of a training image, and is thus equivalent to the second and third elements of the shape attribute of `train_set_x_raw`."
   ]
  },
  {
   "cell_type": "code",
   "execution_count": 6,
   "id": "51469c4b",
   "metadata": {},
   "outputs": [
    {
     "name": "stdout",
     "output_type": "stream",
     "text": [
      "Number of training examples: m_train = 209\n",
      "Number of testing examples: m_test = 50\n",
      "Height / Width of each image: num_px = 64\n",
      "Each image is of size: (64, 64, 3)\n",
      "train_set_x shape: (209, 64, 64, 3)\n",
      "train_set_y shape: (1, 209)\n",
      "test_set_x shape: (50, 64, 64, 3)\n",
      "test_set_y shape: (1, 50)\n"
     ]
    }
   ],
   "source": [
    "# write the lines to determine m_train, m_test, num_px\n",
    "m_train = train_set_x_raw.shape[0] # number of training examples\n",
    "m_test = test_set_x_raw.shape[0]   # number of test examples\n",
    "num_px = train_set_x_raw.shape[1]  # height/width of each image : \"64x64\"\n",
    "print (\"Number of training examples: m_train = \" + str(m_train))\n",
    "print (\"Number of testing examples: m_test = \" + str(m_test))\n",
    "print (\"Height / Width of each image: num_px = \" + str(num_px))\n",
    "print (\"Each image is of size: (\" + str(num_px) + \", \" + str(num_px) + \", 3)\")\n",
    "print (\"train_set_x shape: \" + str(train_set_x_raw.shape))\n",
    "print (\"train_set_y shape: \" + str(train_set_y.shape))\n",
    "print (\"test_set_x shape: \" + str(test_set_x_raw.shape))\n",
    "print (\"test_set_y shape: \" + str(test_set_y.shape))\n"
   ]
  },
  {
   "attachments": {},
   "cell_type": "markdown",
   "id": "dafbe5b0",
   "metadata": {},
   "source": [
    "<a name='ex-1.2'></a>\n",
    "\n",
    "### <font color='blue'> Exercise 1.2: reshape the datasets </font>\n",
    "    \n",
    "To simplify subsequent computations, reshape the (num_px, num_px, 3) images into a numpy array of shape (num_px * num_px * 3, 1), resulting in a training and test dataset where each column corresponds to a flattened image. The dataset will contain m_train (and m_test) columns, where m_train (and m_test) represent the number of examples."
   ]
  },
  {
   "cell_type": "code",
   "execution_count": 7,
   "id": "8618eaea",
   "metadata": {},
   "outputs": [
    {
     "name": "stdout",
     "output_type": "stream",
     "text": [
      "num_px * num_px * 3 = 12288\n",
      "64 * 64 * 3 = 12288\n",
      "train_set_x shape: (12288, 209)\n",
      "test_set_x shape: (12288, 50)\n"
     ]
    }
   ],
   "source": [
    "# write the lines to reshape the training and test examples. Use the  use the reshape() function.\n",
    "\"\"\" \n",
    "Transformer la matrice en 2 dimensions en vecteur a une dimension\n",
    "\"\"\"\n",
    "train_set_x_flatten = train_set_x_raw.reshape(m_train, -1).T\n",
    "test_set_x_flatten = test_set_x_raw.reshape(m_test, -1).T\n",
    "\n",
    "print(\"num_px * num_px * 3 = \" + str(num_px*num_px*3))\n",
    "print(\"64 * 64 * 3 = \" + str(num_px*num_px*3))\n",
    "print (\"train_set_x shape: \" + str(train_set_x_flatten.shape))\n",
    "print (\"test_set_x shape: \" + str(test_set_x_flatten.shape))"
   ]
  },
  {
   "attachments": {},
   "cell_type": "markdown",
   "id": "1cdf8b84",
   "metadata": {},
   "source": [
    "<a name='ex-1.3'></a>\n",
    "\n",
    "### <font color='blue'> Exercise 1.3: standardize the data </font>\n",
    "Color images are represented by specifying the red, green, and blue channels (RGB) for each pixel. Consequently, the value of each pixel is expressed as a vector comprising three numbers, ranging from 0 to 255. Dividing each pixel value by 255 scales the pixel values to the range [0, 1], which can make it easier for the model to learn the underlying patterns in the data.\n",
    "    \n",
    "<font color='green'> Standardize the dataset by dividing each row by 255."
   ]
  },
  {
   "cell_type": "code",
   "execution_count": 8,
   "id": "03e08fed",
   "metadata": {},
   "outputs": [
    {
     "name": "stdout",
     "output_type": "stream",
     "text": [
      "before normalization : [[ 17 196  82 ... 143  22   8]\n",
      " [ 31 192  71 ... 155  24  28]\n",
      " [ 56 190  68 ... 165  23  53]\n",
      " ...\n",
      " [  0  82 138 ...  85   4   0]\n",
      " [  0  80 141 ... 107   5   0]\n",
      " [  0  81 142 ... 149   0   0]]\n"
     ]
    }
   ],
   "source": [
    "print(\"before normalization :\", train_set_x_flatten)"
   ]
  },
  {
   "cell_type": "code",
   "execution_count": 9,
   "id": "06c46da0",
   "metadata": {},
   "outputs": [],
   "source": [
    "# write the lines to standardize the dataset by dividing each row by 255.\n",
    "# Trainset :\n",
    "train_set_x_flatten = train_set_x_flatten/255.\n",
    "test_set_x_flatten = test_set_x_flatten/255."
   ]
  },
  {
   "cell_type": "code",
   "execution_count": 10,
   "id": "a4dfbfab",
   "metadata": {},
   "outputs": [
    {
     "name": "stdout",
     "output_type": "stream",
     "text": [
      "after normalization : [[0.06666667 0.76862745 0.32156863 ... 0.56078431 0.08627451 0.03137255]\n",
      " [0.12156863 0.75294118 0.27843137 ... 0.60784314 0.09411765 0.10980392]\n",
      " [0.21960784 0.74509804 0.26666667 ... 0.64705882 0.09019608 0.20784314]\n",
      " ...\n",
      " [0.         0.32156863 0.54117647 ... 0.33333333 0.01568627 0.        ]\n",
      " [0.         0.31372549 0.55294118 ... 0.41960784 0.01960784 0.        ]\n",
      " [0.         0.31764706 0.55686275 ... 0.58431373 0.         0.        ]]\n"
     ]
    }
   ],
   "source": [
    "print(\"after normalization :\", train_set_x_flatten)"
   ]
  },
  {
   "cell_type": "markdown",
   "id": "f37735a4",
   "metadata": {},
   "source": [
    "<a name='2'></a>\n",
    "## <font color='darkviolet'> 2 - Building the components of the algorithm ##"
   ]
  },
  {
   "attachments": {},
   "cell_type": "markdown",
   "id": "099c87b1",
   "metadata": {},
   "source": [
    "In this section, we will build a simple algorithm that can distinguish cat images from non-cat images. Specifically, we will build a logistic regression model using a Neural Network approach. \n",
    "\n",
    "**Reminder**. The mathematical expression of the logistic regression algorithm, given an input example $x^{(i)}$:\n",
    "\n",
    "\\begin{equation} z^{(i)} = w^T x^{(i)} + b \\tag{1} \\end{equation}\n",
    "\n",
    "\\begin{equation} \\hat{y}^{(i)} = a^{(i)} = sigmoid(z^{(i)})\\tag{2} \\end{equation}\n",
    "\n",
    "\\begin{equation} \\mathcal{L}(a^{(i)}, y^{(i)}) = - y^{(i)} \\log(a^{(i)}) - (1-y^{(i)} ) \\log(1-a^{(i)})\\tag{3} \\end{equation}\n",
    "\n",
    "\\begin{equation} J = \\frac{1}{m} \\sum_{i=1}^m \\mathcal{L}(a^{(i)}, y^{(i)})\\tag{4} \\end{equation}"
   ]
  },
  {
   "cell_type": "markdown",
   "id": "3ec86036",
   "metadata": {},
   "source": [
    "**Key steps** we will implement:\n",
    "\n",
    "1. Initialize the parameters of the model\n",
    "3. Loop:\n",
    "   * Calculate loss (forward propagation)\n",
    "   * Calculate gradient (backward propagation)\n",
    "   * Update parameters (gradient descent)\n",
    "        \n",
    "We will build each step separately and then integrate them into one function called `model()`."
   ]
  },
  {
   "attachments": {},
   "cell_type": "markdown",
   "id": "dc922d1a",
   "metadata": {},
   "source": [
    "<a name='ex-2.1'></a>\n",
    "### <font color='blue'> Exercise 2.1: Initializing parameters </font>\n",
    "    \n",
    "Implement the function `initialize_with_zeros()` that initializes w as a vector of zeros, and b to zero.\n",
    "If you don't know what numpy function to use, look up np.zeros() in the Numpy library's documentation."
   ]
  },
  {
   "cell_type": "code",
   "execution_count": 11,
   "id": "5f4d9092",
   "metadata": {},
   "outputs": [],
   "source": [
    "def initialize_with_zeros(dim):\n",
    "    \"\"\"\n",
    "    This function creates a vector of zeros of shape (dim, 1) for w and initializes b to 0.\n",
    "    \n",
    "    Argument:\n",
    "    dim -- size of the w vector we want (or number of parameters in this case)\n",
    "    \n",
    "    Returns:\n",
    "    w -- initialized vector of shape (dim, 1)\n",
    "    b -- initialized scalar (corresponds to the bias) of type float\n",
    "    \"\"\"\n",
    "    \n",
    "    # Implement this function\n",
    "    w = np.zeros((dim, 1))\n",
    "    b = 0. # Float because of the assert lower\n",
    "        \n",
    "    return w, b"
   ]
  },
  {
   "cell_type": "code",
   "execution_count": 12,
   "id": "6ba6c4bd",
   "metadata": {},
   "outputs": [
    {
     "name": "stdout",
     "output_type": "stream",
     "text": [
      "w = [[0.]\n",
      " [0.]]\n",
      "b = 0.0\n"
     ]
    }
   ],
   "source": [
    "dim = 2\n",
    "w, b = initialize_with_zeros(dim)\n",
    "\n",
    "assert type(b) == float\n",
    "print (\"w = \" + str(w))\n",
    "print (\"b = \" + str(b))"
   ]
  },
  {
   "attachments": {},
   "cell_type": "markdown",
   "id": "ca311440",
   "metadata": {},
   "source": [
    "<a name='ex-2.2'></a>\n",
    "### <font color='blue'> Exercise 2.2: Forward and Backward propagation </font>\n",
    "\n",
    "Now that we have initialized the parameters, we can do the forward and backward propagation steps for learning the parameters.\n",
    "\n",
    "<font color='green'> a. Implement the sigmoid function using np.exp(). </font>\n",
    "    \n",
    "<font color='green'> b. Implement a function `propagate()` that computes the cost function and its gradient. Write your code step by step. Don't use loops for the sum; use np.log(), np.dot(). </font>\n",
    "\n",
    "**Recap**:\n",
    "\n",
    "* Forward Propagation:\n",
    "1. Compute $A = \\sigma(w^T X + b) = (a^{(1)}, a^{(2)}, ..., a^{(m)})$\n",
    "3. Calculate the cost function $J = -\\frac{1}{m}\\sum_{i=1}^{m}(y^{(i)}\\log(a^{(i)})+(1-y^{(i)})\\log(1-a^{(i)}))$\n",
    "\n",
    "* Backward Propagation key formulas: \n",
    "\n",
    "$$ \\frac{d J}{d w} = \\frac{1}{m}X(A-Y)^T\\tag{7}$$\n",
    "$$ \\frac{d J}{d b} = \\frac{1}{m} \\sum_{i=1}^m (a^{(i)}-y^{(i)})\\tag{8}$$"
   ]
  },
  {
   "attachments": {},
   "cell_type": "markdown",
   "id": "b696a040",
   "metadata": {},
   "source": [
    "Remember : \n",
    "\n",
    "$$ Z = w^T X + b $$\n",
    "\n",
    "$$ Sigmoïde(z) = \\frac{1}{1+e^{-z}} $$"
   ]
  },
  {
   "cell_type": "code",
   "execution_count": 13,
   "id": "fc9f8e6d",
   "metadata": {},
   "outputs": [],
   "source": [
    "def sigmoid(z):\n",
    "    \"\"\"\n",
    "    Compute the sigmoid of z\n",
    "\n",
    "    Arguments:\n",
    "    z -- A scalar or numpy array of any size.\n",
    "\n",
    "    Return:\n",
    "    s -- sigmoid(z)\n",
    "    \"\"\"\n",
    "\n",
    "    # Implement this function\n",
    "    s = 1/(1+np.exp(-z))\n",
    "    \n",
    "    return s\n"
   ]
  },
  {
   "cell_type": "code",
   "execution_count": 14,
   "id": "937dbd8b",
   "metadata": {},
   "outputs": [],
   "source": [
    "def propagate(w, b, X, Y):\n",
    "    \"\"\"\n",
    "    Implement the cost function and its gradient for logistic regression.\n",
    "\n",
    "    Arguments:\n",
    "    w -- weights, a numpy array of size (num_px * num_px * 3, 1)\n",
    "    b -- bias, a scalar\n",
    "    X -- data of size (num_px * num_px * 3, number of examples)\n",
    "    Y -- true labels, a numpy array of size (1, number of examples)\n",
    "\n",
    "    Returns:\n",
    "    cost -- negative log-likelihood cost for logistic regression\n",
    "    dw -- gradient of the loss with respect to w, same shape as w\n",
    "    db -- gradient of the loss with respect to b, same shape as b\n",
    "    \"\"\"\n",
    "    \n",
    "    m = X.shape[1]  # number of examples   \n",
    "\n",
    "    # FORWARD PROPAGATION\n",
    "    # Z = ...\n",
    "    # A = ...\n",
    "    # cost = ...\n",
    "    Z = np.dot(w.T, X) + b\n",
    "    A = sigmoid(Z + b) \n",
    "    cost = -1/m * np.sum(Y*np.log(A) + (1-Y)*np.log(1-A))\n",
    "    \n",
    "    # BACKWARD PROPAGATION\n",
    "    # dZ = ... -> dérivée partielle de Z\n",
    "    # dw = ...\n",
    "    # db = ...\n",
    "    dZ = A - Y\n",
    "    dw = 1/m * np.dot(X, dZ.T)\n",
    "    db = 1/m * np.sum(dZ)\n",
    "        \n",
    "    grads = {\"dw\": dw, \"db\": db}\n",
    "    \n",
    "    return grads, cost"
   ]
  },
  {
   "cell_type": "code",
   "execution_count": 15,
   "id": "ba99d1a1",
   "metadata": {},
   "outputs": [
    {
     "name": "stdout",
     "output_type": "stream",
     "text": [
      "dw = [[ 0.07541067]\n",
      " [-0.03284955]]\n",
      "db = -0.03570662830218194\n",
      "cost = 0.04639199818329516\n"
     ]
    }
   ],
   "source": [
    "w =  np.array([[1.], [2]])\n",
    "b = 1.5\n",
    "X = np.array([[1., -2., -1.], [3., 0.5, -3.2]])\n",
    "Y = np.array([[1, 1, 0]])\n",
    "grads, cost = propagate(w, b, X, Y)\n",
    "\n",
    "assert type(grads[\"dw\"]) == np.ndarray\n",
    "assert grads[\"dw\"].shape == (2, 1)\n",
    "assert type(grads[\"db\"]) == np.float64\n",
    "\n",
    "print (\"dw = \" + str(grads[\"dw\"]))\n",
    "print (\"db = \" + str(grads[\"db\"]))\n",
    "print (\"cost = \" + str(cost))"
   ]
  },
  {
   "attachments": {},
   "cell_type": "markdown",
   "id": "fdec7c8a",
   "metadata": {},
   "source": [
    "<a name='ex-2.3'></a>\n",
    "### <font color='blue'> Exercise 2.3: Optimization </font>\n",
    "\n",
    "Now that we have initialized the parameters and can compute the cost function and its gradient, it's time to update the parameters using gradient descent.\n",
    "\n",
    "<font color='green'> Implement the optimization function `optimize()`. The goal is to learn $w$ and $b$ by minimizing the cost function $J$. </font>\n",
    "\n",
    "**Recall** Iterate through the loop:\n",
    "1) Calculate the cost and the gradient for the current parameters, using propagate();\n",
    "2) Update the parameters using gradient descent rule for w and b.\n",
    "    \n",
    "For a parameter $\\theta$, the update rule is $ \\theta = \\theta - \\alpha \\text{ } d\\theta$, where $\\alpha$ is the learning rate."
   ]
  },
  {
   "cell_type": "code",
   "execution_count": 16,
   "id": "c6f45eee",
   "metadata": {},
   "outputs": [],
   "source": [
    "def optimize(w, b, X, Y, num_iterations=100, learning_rate=0.009, print_cost=False):\n",
    "    \"\"\"\n",
    "    Optimizes the parameters w and b using gradient descent.\n",
    "    \n",
    "    Arguments:\n",
    "    w -- weights, a numpy array of size (num_features, 1)\n",
    "    b -- bias, a scalar\n",
    "    X -- input data of size (num_features, num_samples)\n",
    "    Y -- true \"label\" vector of size (1, num_samples)\n",
    "    num_iterations -- number of iterations of the optimization loop\n",
    "    learning_rate -- learning rate of the gradient descent update rule\n",
    "    print_cost -- True to print the cost every 100 iterations\n",
    "    \n",
    "    Returns:\n",
    "    params -- dictionary containing the optimized weights w and bias b\n",
    "    grads -- dictionary containing the gradients of the weights and bias\n",
    "    costs -- list of all the costs computed during the optimization\n",
    "    \"\"\"\n",
    "    \n",
    "    costs = []\n",
    "    \n",
    "    for i in range(num_iterations):\n",
    "        \n",
    "        # Cost and gradient calculation\n",
    "        # grads, cost = ...\n",
    "        grads, cost = propagate(w, b, X, Y)\n",
    "        \n",
    "        # Retrieve derivatives from the dictionary grads\n",
    "        dw = grads[\"dw\"]\n",
    "        db = grads[\"db\"]\n",
    "        \n",
    "        # Update the parameters\n",
    "        # w = ...\n",
    "        # b = ...\n",
    "        w = w - learning_rate * dw\n",
    "        b = b - learning_rate * db\n",
    "        \n",
    "        # Record the costs\n",
    "        if i % 100 == 0:\n",
    "            costs.append(cost)\n",
    "            \n",
    "            # Print the cost every 100 training iterations\n",
    "            if print_cost and i % 100 == 0:\n",
    "                print(f\"Cost after iteration {i}: {cost}\")\n",
    "    \n",
    "    # Save the optimized parameters and gradients in dictionaries\n",
    "    params = {\"w\": w, \"b\": b}\n",
    "    grads = {\"dw\": dw, \"db\": db}\n",
    "    \n",
    "    return params, grads, costs"
   ]
  },
  {
   "cell_type": "code",
   "execution_count": 17,
   "id": "14f210dd",
   "metadata": {
    "scrolled": true
   },
   "outputs": [
    {
     "name": "stdout",
     "output_type": "stream",
     "text": [
      "w = [[0.93817762]\n",
      " [2.02825029]]\n",
      "b = 1.5290826655337657\n",
      "dw = [[ 0.06267595]\n",
      " [-0.03007249]]\n",
      "db = -0.029278035511937753\n",
      "Costs = [0.04639199818329516]\n"
     ]
    }
   ],
   "source": [
    "params, grads, costs = optimize(w, b, X, Y, num_iterations=100, learning_rate=0.009, print_cost=False)\n",
    "\n",
    "print (\"w = \" + str(params[\"w\"]))\n",
    "print (\"b = \" + str(params[\"b\"]))\n",
    "print (\"dw = \" + str(grads[\"dw\"]))\n",
    "print (\"db = \" + str(grads[\"db\"]))\n",
    "print(\"Costs = \" + str(costs))"
   ]
  },
  {
   "attachments": {},
   "cell_type": "markdown",
   "id": "57475f15",
   "metadata": {},
   "source": [
    "<a name='ex-2.4'></a>\n",
    "### <font color='blue'> Exercise 2.4: Prediction </font>\n",
    "    \n",
    "<font color='green'> Implement the `predict()` function that returns the predicted labels for a dataset X using the learned parameters w and b. Don't use loops, use vectorization. </font>\n",
    "    \n",
    "The function should return a numpy array containing all predictions for the examples in X. The predicted values can be rounded to the nearest integer to obtain binary predictions."
   ]
  },
  {
   "cell_type": "code",
   "execution_count": 18,
   "id": "42d52ce1",
   "metadata": {},
   "outputs": [],
   "source": [
    "def predict(w, b, X):\n",
    "    '''\n",
    "    Predict whether the label is 0 or 1 using learned logistic regression parameters (w, b)\n",
    "    \n",
    "    Arguments:\n",
    "    w -- weights, a numpy array of shape (num_features, 1)\n",
    "    b -- bias, a scalar\n",
    "    X -- data of shape (num_features, num_examples)\n",
    "    \n",
    "    Returns:\n",
    "    Y_prediction -- a numpy array (vector) containing all predictions (0/1) for the examples in X\n",
    "    '''\n",
    "    \n",
    "    m = X.shape[1]\n",
    "    \n",
    "    Y_prediction = np.zeros((1, m))\n",
    "    \n",
    "    # Compute vector Z containing the logits for each example\n",
    "    Z = np.dot(w.T, X) + b\n",
    "    \n",
    "    # Compute vector A containing the predicted probabilities for each example\n",
    "    A = sigmoid(Z)\n",
    "    \n",
    "    # Convert probabilities to actual predictions\n",
    "    # Transform into label 1 if the value il > 0.5, else 0\n",
    "    Y_prediction = np.where(A > 0.5, 1, 0)\n",
    "    \n",
    "    return Y_prediction"
   ]
  },
  {
   "cell_type": "code",
   "execution_count": 19,
   "id": "2bf2ddc0",
   "metadata": {},
   "outputs": [
    {
     "name": "stdout",
     "output_type": "stream",
     "text": [
      "predictions = [[1 1 0]]\n"
     ]
    }
   ],
   "source": [
    "w = np.array([[0.1124579], [0.23106775]])\n",
    "b = -0.3\n",
    "# Sample\n",
    "X = np.array([[1., -1.1, -3.2],[1.2, 2., 0.1]])\n",
    "print (\"predictions = \" + str(predict(w, b, X)))"
   ]
  },
  {
   "attachments": {},
   "cell_type": "markdown",
   "id": "2b72b477",
   "metadata": {},
   "source": [
    "<a name='3'></a>\n",
    "## <font color='darkviolet'> 3 - Merging the components into a model </font>\n",
    "    \n",
    "<a name='ex-3.1'></a>\n",
    "### <font color='blue'> Exercise 3.1: Model </font>\n",
    "<font color='green'> Implement the `model()` function that puts together all the building blocks (functions implemented in the previous parts) in the right order to obtain the overall model."
   ]
  },
  {
   "cell_type": "code",
   "execution_count": 20,
   "id": "49b33184",
   "metadata": {},
   "outputs": [],
   "source": [
    "def model(X_train, Y_train, X_test, Y_test, num_iterations=2000, learning_rate=0.5, print_cost=False):\n",
    "    \"\"\"\n",
    "    Builds the logistic regression model by calling previous functions\n",
    "    \n",
    "    Arguments:\n",
    "    X_train -- training set represented by a numpy array of shape (num_features, m_train)\n",
    "    Y_train -- training labels represented by a numpy array (vector) of shape (1, m_train)\n",
    "    X_test -- test set represented by a numpy array of shape (num_features, m_test)\n",
    "    Y_test -- test labels represented by a numpy array (vector) of shape (1, m_test)\n",
    "    num_iterations -- hyperparameter representing the number of iterations to optimize the parameters\n",
    "    learning_rate -- hyperparameter representing the learning rate used in the update rule of optimize()\n",
    "    print_cost -- Set to True to print the cost every 100 iterations\n",
    "\n",
    "    Returns:\n",
    "    d -- dictionary containing information about the model.\n",
    "    \"\"\"\n",
    "    \n",
    "    # Initialize parameters with zeros   \n",
    "    # Gradient descent to optimize parameters\n",
    "    w,b = initialize_with_zeros(X_train.shape[0]) #dim? \n",
    "    \n",
    "    # Retrieve parameters w and b from dictionary \"params\"\n",
    "    params, grads, costs = optimize(w, b, X_train, Y_train, num_iterations, learning_rate, print_cost)\n",
    "    w = params[\"w\"]\n",
    "    b = params[\"b\"]\n",
    "\n",
    "    \n",
    "    # Predict test/train set examples using learned parameters\n",
    "    Y_prediction_train = predict(w, b, X_train)\n",
    "    Y_prediction_test = predict(w, b, X_test)\n",
    "\n",
    "    # Print train/test Errors\n",
    "    if print_cost:\n",
    "        print(\"train accuracy: {} %\".format(100 - np.mean(np.abs(Y_prediction_train - Y_train)) * 100))\n",
    "        print(\"test accuracy: {} %\".format(100 - np.mean(np.abs(Y_prediction_test - Y_test)) * 100))\n",
    "\n",
    "    \n",
    "    d = {\"costs\": costs,\n",
    "         \"Y_prediction_test\": Y_prediction_test, \n",
    "         \"Y_prediction_train\" : Y_prediction_train, \n",
    "         \"w\" : w, \n",
    "         \"b\" : b,\n",
    "         \"learning_rate\" : learning_rate,\n",
    "         \"num_iterations\": num_iterations}\n",
    "                                      \n",
    "    return d\n"
   ]
  },
  {
   "cell_type": "markdown",
   "id": "5d97c91f",
   "metadata": {},
   "source": [
    "\n",
    "Run the following cell to train the model:\n",
    "    "
   ]
  },
  {
   "cell_type": "code",
   "execution_count": 21,
   "id": "9fcdff04",
   "metadata": {
    "scrolled": true
   },
   "outputs": [
    {
     "name": "stdout",
     "output_type": "stream",
     "text": [
      "Cost after iteration 0: 0.6931471805599453\n",
      "Cost after iteration 100: 0.6159928764994369\n",
      "Cost after iteration 200: 0.5912987450381082\n",
      "Cost after iteration 300: 0.5720053849317003\n",
      "Cost after iteration 400: 0.5557947258190539\n",
      "Cost after iteration 500: 0.5416340924545876\n",
      "Cost after iteration 600: 0.5289680477125958\n",
      "Cost after iteration 700: 0.5174554658338232\n",
      "Cost after iteration 800: 0.5068679859520258\n",
      "Cost after iteration 900: 0.49704376263310507\n",
      "Cost after iteration 1000: 0.4878633316651706\n",
      "Cost after iteration 1100: 0.4792356979017776\n",
      "Cost after iteration 1200: 0.47108974341887344\n",
      "Cost after iteration 1300: 0.4633686585316014\n",
      "Cost after iteration 1400: 0.4560261999300472\n",
      "Cost after iteration 1500: 0.44902410319383423\n",
      "Cost after iteration 1600: 0.4423302494643451\n",
      "Cost after iteration 1700: 0.4359173382872563\n",
      "Cost after iteration 1800: 0.4297619080914423\n",
      "Cost after iteration 1900: 0.42384360034414476\n",
      "train accuracy: 86.60287081339713 %\n",
      "test accuracy: 62.0 %\n"
     ]
    }
   ],
   "source": [
    "logistic_regression_model = model(train_set_x_flatten, train_set_y, test_set_x_flatten, test_set_y, num_iterations=2000, learning_rate=0.0005, print_cost=True)"
   ]
  },
  {
   "attachments": {},
   "cell_type": "markdown",
   "id": "ee85f92f",
   "metadata": {},
   "source": [
    "<font color='pink'>\n",
    "Q1: \n",
    "\n",
    "*  Provide an interpretation of the results obtained above. "
   ]
  },
  {
   "attachments": {},
   "cell_type": "markdown",
   "id": "d6bd5b66",
   "metadata": {},
   "source": [
    "> **Q1**: The model that we compute sems to be a good model because the train accuracy is about 86%. Nevertheless the test accuracy is about 62%, that means that the model has some difficulties to generalize.\n",
    "> Moreover, after 1900 ierations, the cost function is still decreasing (but slower) : it's a good thing."
   ]
  },
  {
   "cell_type": "code",
   "execution_count": 22,
   "id": "6764ce81",
   "metadata": {},
   "outputs": [
    {
     "name": "stdout",
     "output_type": "stream",
     "text": [
      "List of the bad indexes : [4, 6, 10, 11, 13, 18, 19, 23, 26, 28, 29, 30, 33, 34, 40, 42, 44, 46, 48]\n",
      "Let's look at the 4 first images that were wrongly classified :\n",
      "Index : 4 y = 1, you predicted that it is a \"non-cat\" picture.\n",
      "Index : 6 y = 1, you predicted that it is a \"non-cat\" picture.\n",
      "Index : 10 y = 1, you predicted that it is a \"non-cat\" picture.\n",
      "Index : 11 y = 1, you predicted that it is a \"non-cat\" picture.\n"
     ]
    },
    {
     "data": {
      "image/png": "[encoded data removed]",
      "text/plain": [
       "<Figure size 640x480 with 1 Axes>"
      ]
     },
     "metadata": {},
     "output_type": "display_data"
    }
   ],
   "source": [
    "# Example of an image that was wrongly classified.\n",
    "\n",
    "bad_indexes = []\n",
    "for i in range(len(logistic_regression_model['Y_prediction_test'][0])):\n",
    "    if logistic_regression_model['Y_prediction_test'][0][i] != test_set_y[0][i]:\n",
    "        bad_indexes.append(i)\n",
    "\n",
    "print(\"List of the bad indexes :\",bad_indexes)\n",
    "\n",
    "print(\"Let's look at the 4 first images that were wrongly classified :\")\n",
    "for index in bad_indexes[:4]:\n",
    "    print(\"Index :\",index, end=\" \")\n",
    "    plt.figure()\n",
    "    plt.imshow(train_set_x_flatten[:, index].reshape((num_px, num_px, 3)))\n",
    "    print (\"y = \" + str(test_set_y[0,index]) + \", you predicted that it is a \\\"\" + classes[int(logistic_regression_model['Y_prediction_test'][0,index])].decode(\"utf-8\") +  \"\\\" picture.\")"
   ]
  },
  {
   "cell_type": "markdown",
   "id": "0d4e18fa",
   "metadata": {},
   "source": [
    "\n",
    "Run the cell below to compare the learning curve of our model with different choices of learning rates. Feel free to try different values and see what happens. \n",
    "    "
   ]
  },
  {
   "cell_type": "code",
   "execution_count": 23,
   "id": "daa71522",
   "metadata": {},
   "outputs": [
    {
     "name": "stdout",
     "output_type": "stream",
     "text": [
      "Training a model with learning rate: 0.02\n",
      "-------------------------------------------------------\n",
      "Training a model with learning rate: 0.04\n"
     ]
    },
    {
     "name": "stderr",
     "output_type": "stream",
     "text": [
      "/tmp/ipykernel_7210/3423256872.py:25: RuntimeWarning: divide by zero encountered in log\n",
      "  cost = -1/m * np.sum(Y*np.log(A) + (1-Y)*np.log(1-A))\n",
      "/tmp/ipykernel_7210/3423256872.py:25: RuntimeWarning: invalid value encountered in multiply\n",
      "  cost = -1/m * np.sum(Y*np.log(A) + (1-Y)*np.log(1-A))\n"
     ]
    },
    {
     "name": "stdout",
     "output_type": "stream",
     "text": [
      "-------------------------------------------------------\n",
      "Training a model with learning rate: 0.01\n",
      "-------------------------------------------------------\n",
      "Training a model with learning rate: 0.005\n",
      "-------------------------------------------------------\n"
     ]
    },
    {
     "data": {
      "image/png": "[encoded data removed]",
      "text/plain": [
       "<Figure size 640x480 with 1 Axes>"
      ]
     },
     "metadata": {},
     "output_type": "display_data"
    }
   ],
   "source": [
    "learning_rates = [0.02,0.04,0.01,0.005]\n",
    "\n",
    "models = {}\n",
    "\n",
    "for lr in learning_rates:\n",
    "    print (\"Training a model with learning rate: \" + str(lr))\n",
    "    models[str(lr)] = model(train_set_x_flatten, train_set_y, test_set_x_flatten, test_set_y, num_iterations=1500, learning_rate=lr, print_cost=False)\n",
    "    print (\"-------------------------------------------------------\")\n",
    "\n",
    "for lr in learning_rates:\n",
    "    plt.plot(np.squeeze(models[str(lr)][\"costs\"]), label=str(models[str(lr)][\"learning_rate\"]))\n",
    "\n",
    "plt.ylabel('cost')\n",
    "plt.xlabel('iterations (hundreds)')\n",
    "\n",
    "legend = plt.legend(loc='upper center', shadow=True)\n",
    "frame = legend.get_frame()\n",
    "frame.set_facecolor('0.90')\n",
    "plt.show()"
   ]
  },
  {
   "attachments": {},
   "cell_type": "markdown",
   "id": "936cb912",
   "metadata": {},
   "source": [
    "**Q2:**   \n",
    "    \n",
    "* What is the purpose of the learning rate in the gradient descent algorithm and how can it affect the performance of the model?\n",
    "    \n",
    "* Why it is important to use a well-tuned learning rate?\n",
    "    \n",
    "    \n",
    "* Provide an interpretation of the results obtained above for different learning rates."
   ]
  },
  {
   "attachments": {},
   "cell_type": "markdown",
   "id": "a436729d",
   "metadata": {},
   "source": [
    "> **Q2.1** : The learning rate in the gradient descent algorithm is a hyperparameter that controls how much the weights of the model are updated in each iteration of the training process. Specifically, the learning rate determines the step size that the algorithm takes in the direction of the negative gradient of the loss function. A smaller learning rate means that the algorithm takes smaller steps, while a larger learning rate means that the algorithm takes larger steps.\n",
    "\n"
   ]
  },
  {
   "attachments": {},
   "cell_type": "markdown",
   "id": "a3aba023",
   "metadata": {},
   "source": [
    "> **Q2.2** : It is important to use a well-tuned learning rate because, in our case, the learning rate can greatly affect the performance of the model. If the learning rate is too small, the algorithm will take a long time to converge to an optimal solution, or it may get stuck in a local minimum. On the other hand, if the learning rate is too large, the algorithm may overshoot the optimal solution and fail to converge."
   ]
  },
  {
   "attachments": {},
   "cell_type": "markdown",
   "id": "1f5ea540",
   "metadata": {},
   "source": [
    "> **Q2.3** : We tested our model with 4 different learning rates : 0.01, 0.005, 0.001 and 0.0001.\n",
    "> We notice that the lower the learning rate, the longer it takes to converge to an optimal solution. Moreover, greater the learning rate, the faster the algorithm converges to an optimal solution but the more likely it is to overshoot the optimal solution and may fail to converge. In our case, the 0.01 learning rate cost spikes up after 1000 iterations which is caused by the overshoot explained above (even tho it still manage to converge). \n",
    ">\n",
    "> After the 1400 iterations, the cost is the lowest for the 0.01 learning rate."
   ]
  }
 ],
 "metadata": {
  "kernelspec": {
   "display_name": "Python 3",
   "language": "python",
   "name": "python3"
  },
  "language_info": {
   "codemirror_mode": {
    "name": "ipython",
    "version": 3
   },
   "file_extension": ".py",
   "mimetype": "text/x-python",
   "name": "python",
   "nbconvert_exporter": "python",
   "pygments_lexer": "ipython3",
   "version": "3.10.10"
  },
  "vscode": {
   "interpreter": {
    "hash": "e7370f93d1d0cde622a1f8e1c04877d8463912d04d973331ad4851f04de6915a"
   }
  }
 },
 "nbformat": 4,
 "nbformat_minor": 5
}
